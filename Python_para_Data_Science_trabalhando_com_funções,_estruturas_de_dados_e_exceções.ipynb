{
  "nbformat": 4,
  "nbformat_minor": 0,
  "metadata": {
    "colab": {
      "provenance": []
    },
    "kernelspec": {
      "name": "python3",
      "display_name": "Python 3"
    },
    "language_info": {
      "name": "python"
    }
  },
  "cells": [
    {
      "cell_type": "markdown",
      "source": [
        "Desafios do curso *Trabalhando com Funções, estruturas de dados e exceções* da formação **Python para Data Science** da Alura"
      ],
      "metadata": {
        "id": "lOs2Jv12F-w8"
      }
    },
    {
      "cell_type": "markdown",
      "source": [
        "Aula 01. Bibliotecas"
      ],
      "metadata": {
        "id": "r0DxzjHEGcQW"
      }
    },
    {
      "cell_type": "code",
      "execution_count": 1,
      "metadata": {
        "colab": {
          "base_uri": "https://localhost:8080/"
        },
        "id": "FoyBfyCIEmm4",
        "outputId": "824f5be9-7b94-4eed-971d-37e8ee5da329"
      },
      "outputs": [
        {
          "output_type": "stream",
          "name": "stdout",
          "text": [
            "Requirement already satisfied: matplotlib==3.7.1 in /usr/local/lib/python3.10/dist-packages (3.7.1)\n",
            "Requirement already satisfied: contourpy>=1.0.1 in /usr/local/lib/python3.10/dist-packages (from matplotlib==3.7.1) (1.2.1)\n",
            "Requirement already satisfied: cycler>=0.10 in /usr/local/lib/python3.10/dist-packages (from matplotlib==3.7.1) (0.12.1)\n",
            "Requirement already satisfied: fonttools>=4.22.0 in /usr/local/lib/python3.10/dist-packages (from matplotlib==3.7.1) (4.53.1)\n",
            "Requirement already satisfied: kiwisolver>=1.0.1 in /usr/local/lib/python3.10/dist-packages (from matplotlib==3.7.1) (1.4.5)\n",
            "Requirement already satisfied: numpy>=1.20 in /usr/local/lib/python3.10/dist-packages (from matplotlib==3.7.1) (1.26.4)\n",
            "Requirement already satisfied: packaging>=20.0 in /usr/local/lib/python3.10/dist-packages (from matplotlib==3.7.1) (24.1)\n",
            "Requirement already satisfied: pillow>=6.2.0 in /usr/local/lib/python3.10/dist-packages (from matplotlib==3.7.1) (9.4.0)\n",
            "Requirement already satisfied: pyparsing>=2.3.1 in /usr/local/lib/python3.10/dist-packages (from matplotlib==3.7.1) (3.1.2)\n",
            "Requirement already satisfied: python-dateutil>=2.7 in /usr/local/lib/python3.10/dist-packages (from matplotlib==3.7.1) (2.8.2)\n",
            "Requirement already satisfied: six>=1.5 in /usr/local/lib/python3.10/dist-packages (from python-dateutil>=2.7->matplotlib==3.7.1) (1.16.0)\n"
          ]
        }
      ],
      "source": [
        "# Instalação da biblioteca matplotlib na versão 3.7.1:\n",
        "!pip install matplotlib==3.7.1\n"
      ]
    },
    {
      "cell_type": "code",
      "source": [
        "# Importação da biblioteca numpy com o alias np:\n",
        "\n",
        "import numpy as np\n"
      ],
      "metadata": {
        "id": "5RLMFtqEHDeO"
      },
      "execution_count": 2,
      "outputs": []
    },
    {
      "cell_type": "code",
      "source": [
        "# Escolha aleatória de um número da lista:\n",
        "\n",
        "import random\n",
        "\n",
        "lista = [8, 12, 54, 23, 43, 1, 90, 87, 105, 77]\n",
        "numero_aleatorio = random.choice(lista)\n",
        "print(f\"O número escolhido foi: {numero_aleatorio}\")\n"
      ],
      "metadata": {
        "colab": {
          "base_uri": "https://localhost:8080/"
        },
        "id": "0sWmpF7eHJSK",
        "outputId": "eff9975f-1f6d-4af2-cc79-ff984afe8206"
      },
      "execution_count": 3,
      "outputs": [
        {
          "output_type": "stream",
          "name": "stdout",
          "text": [
            "O número escolhido foi: 1\n"
          ]
        }
      ]
    },
    {
      "cell_type": "code",
      "source": [
        "# Sorteio de um número inteiro positivo menor que 100:\n",
        "\n",
        "import random\n",
        "\n",
        "numero_aleatorio = random.randrange(100)\n",
        "print(f\"O número sorteado é: {numero_aleatorio}\")\n"
      ],
      "metadata": {
        "colab": {
          "base_uri": "https://localhost:8080/"
        },
        "id": "mbfG_XzQHo4N",
        "outputId": "c5159557-58f8-4561-b96a-a90ce0e80e24"
      },
      "execution_count": 4,
      "outputs": [
        {
          "output_type": "stream",
          "name": "stdout",
          "text": [
            "O número sorteado é: 17\n"
          ]
        }
      ]
    },
    {
      "cell_type": "code",
      "source": [
        "# Cálculo da potência do primeiro número elevado ao segundo:\n",
        "\n",
        "import math\n",
        "\n",
        "num1 = int(input(\"Digite o primeiro número: \"))\n",
        "num2 = int(input(\"Digite o segundo número: \"))\n",
        "\n",
        "potencia = math.pow(num1, num2)\n",
        "print(f\"{num1} elevado a {num2} é: {potencia}\")\n"
      ],
      "metadata": {
        "colab": {
          "base_uri": "https://localhost:8080/"
        },
        "id": "Wqs4w5tSHtsi",
        "outputId": "f249294d-81dd-4788-b44d-126430a7100c"
      },
      "execution_count": 5,
      "outputs": [
        {
          "output_type": "stream",
          "name": "stdout",
          "text": [
            "Digite o primeiro número: 8\n",
            "Digite o segundo número: 4\n",
            "8 elevado a 4 é: 4096.0\n"
          ]
        }
      ]
    },
    {
      "cell_type": "code",
      "source": [
        "# Sorteio de um participante de acordo com o número de participantes:\n",
        "\n",
        "import random\n",
        "\n",
        "num_participantes = int(input(\"Digite o número de participantes: \"))\n",
        "num_sorteado = random.randrange(1, num_participantes + 1)\n",
        "print(f\"O número sorteado foi: {num_sorteado}\")\n"
      ],
      "metadata": {
        "colab": {
          "base_uri": "https://localhost:8080/"
        },
        "id": "nmlklyHFH22C",
        "outputId": "a87c33ef-254f-4046-8e8f-77a40bd08691"
      },
      "execution_count": 7,
      "outputs": [
        {
          "output_type": "stream",
          "name": "stdout",
          "text": [
            "Digite o número de participantes: 200\n",
            "O número sorteado foi: 57\n"
          ]
        }
      ]
    },
    {
      "cell_type": "code",
      "source": [
        "# Geração de token par para acesso ao aplicativo:\n",
        "\n",
        "import random\n",
        "\n",
        "nome = input(\"Digite seu nome: \")\n",
        "token = random.randrange(1000, 9999, 2)\n",
        "print(f\"Olá, {nome}, o seu token de acesso é {token}! Seja bem-vindo(a)!\")\n"
      ],
      "metadata": {
        "colab": {
          "base_uri": "https://localhost:8080/"
        },
        "id": "XMFWpMxTH-Xf",
        "outputId": "1725a8a2-7113-4442-a585-05bae6a28d68"
      },
      "execution_count": 8,
      "outputs": [
        {
          "output_type": "stream",
          "name": "stdout",
          "text": [
            "Digite seu nome: William\n",
            "Olá, William, o seu token de acesso é 7984! Seja bem-vindo(a)!\n"
          ]
        }
      ]
    },
    {
      "cell_type": "code",
      "source": [
        "# Seleção aleatória de 3 frutas de uma lista de 12:\n",
        "\n",
        "import random\n",
        "\n",
        "frutas = [\"maçã\", \"banana\", \"uva\", \"pêra\",\n",
        "          \"manga\", \"coco\", \"melancia\", \"mamão\",\n",
        "          \"laranja\", \"abacaxi\", \"kiwi\", \"ameixa\"]\n",
        "\n",
        "frutas_sorteadas = random.sample(frutas, 3)\n",
        "print(f\"As frutas sorteadas foram: {frutas_sorteadas}\")\n"
      ],
      "metadata": {
        "colab": {
          "base_uri": "https://localhost:8080/"
        },
        "id": "llD2WvoMIEYM",
        "outputId": "c1c0dcfa-e467-4811-c521-c58f148ddb3e"
      },
      "execution_count": 9,
      "outputs": [
        {
          "output_type": "stream",
          "name": "stdout",
          "text": [
            "As frutas sorteadas foram: ['laranja', 'melancia', 'coco']\n"
          ]
        }
      ]
    },
    {
      "cell_type": "code",
      "source": [
        "# Identificação de números com raízes quadradas inteiras:\n",
        "\n",
        "import math\n",
        "\n",
        "numeros = [2, 8, 15, 23, 91, 112, 256]\n",
        "numeros_com_raiz_inteira = []\n",
        "\n",
        "for numero in numeros:\n",
        "    raiz = math.sqrt(numero)\n",
        "    if raiz // 1 == raiz:\n",
        "        numeros_com_raiz_inteira.append((numero, int(raiz)))\n",
        "\n",
        "print(\"Números com raízes inteiras e seus valores:\")\n",
        "for numero, raiz in numeros_com_raiz_inteira:\n",
        "    print(f\"{numero}: {raiz}\")\n"
      ],
      "metadata": {
        "colab": {
          "base_uri": "https://localhost:8080/"
        },
        "id": "h0jlyO00IJbs",
        "outputId": "179aa0ce-c982-4a38-a802-644761ec2717"
      },
      "execution_count": 10,
      "outputs": [
        {
          "output_type": "stream",
          "name": "stdout",
          "text": [
            "Números com raízes inteiras e seus valores:\n",
            "256: 16\n"
          ]
        }
      ]
    },
    {
      "cell_type": "code",
      "source": [
        "# Cálculo do valor a ser pago pela grama de um jardim circular:\n",
        "\n",
        "import math\n",
        "\n",
        "raio = float(input(\"Digite o raio do jardim em metros: \"))\n",
        "preco_m2 = 25.00\n",
        "\n",
        "area = math.pi * math.pow(raio, 2)\n",
        "custo = area * preco_m2\n",
        "\n",
        "print(f\"O valor a ser pago pela grama é: R$ {custo:.2f}\")\n"
      ],
      "metadata": {
        "colab": {
          "base_uri": "https://localhost:8080/"
        },
        "id": "pJcUyNrgIPF2",
        "outputId": "eeee15c2-4aa4-436c-ccfa-59c6039c2f7d"
      },
      "execution_count": 12,
      "outputs": [
        {
          "output_type": "stream",
          "name": "stdout",
          "text": [
            "Digite o raio do jardim em metros: 3\n",
            "O valor a ser pago pela grama é: R$ 706.86\n"
          ]
        }
      ]
    },
    {
      "cell_type": "markdown",
      "source": [
        "**Aula 02. Funções**"
      ],
      "metadata": {
        "id": "yPLgH0lRIfsi"
      }
    },
    {
      "cell_type": "code",
      "source": [
        "# 1. Escreva um código que lê a lista abaixo e faça:\n",
        "# lista = [16, 14, 63, 65, 17, 99, 70, 11, 20, 48, 79, 32, 17, 89, 12, 25, 66]\n",
        "# A leitura do tamanho da lista\n",
        "# A leitura do maior e menor valor\n",
        "# A soma dos valores da lista\n",
        "\n",
        "# Lista fornecida\n",
        "lista = [16, 14, 63, 65, 17, 99, 70, 11, 20, 48, 79, 32, 17, 89, 12, 25, 66]\n",
        "\n",
        "# Calculando o tamanho da lista\n",
        "tam = len(lista)\n",
        "\n",
        "# Encontrando o maior e menor valor da lista\n",
        "maior = max(lista)\n",
        "menor = min(lista)\n",
        "\n",
        "# Somando os valores da lista\n",
        "soma = sum(lista)\n",
        "\n",
        "# Exibindo a mensagem final\n",
        "print(f\"A lista possui {tam} números em que o maior número é {maior} e o menor número é {menor}. A soma dos valores presentes nela é igual a {soma}\")\n"
      ],
      "metadata": {
        "colab": {
          "base_uri": "https://localhost:8080/"
        },
        "id": "1IRHikgLIkh5",
        "outputId": "336c6c2e-6ccf-435d-9135-36b66eaf7a5e"
      },
      "execution_count": 13,
      "outputs": [
        {
          "output_type": "stream",
          "name": "stdout",
          "text": [
            "A lista possui 17 números em que o maior número é 99 e o menor número é 11. A soma dos valores presentes nela é igual a 743\n"
          ]
        }
      ]
    },
    {
      "cell_type": "code",
      "source": [
        "# 2. Tabuada\n",
        "\n",
        "def gerar_tabuada(num):\n",
        "    print(f\"Tabuada do {num}:\")\n",
        "    for i in range(11):\n",
        "        print(f\"{num} x {i} = {num * i}\")\n",
        "\n",
        "# Exemplo de uso\n",
        "numero = int(input(\"Digite um número para gerar a tabuada: \"))\n",
        "gerar_tabuada(numero)\n"
      ],
      "metadata": {
        "colab": {
          "base_uri": "https://localhost:8080/"
        },
        "id": "3xoElEApJD-o",
        "outputId": "3566e0d3-49a1-4efc-d1c5-74555730fd1c"
      },
      "execution_count": 15,
      "outputs": [
        {
          "output_type": "stream",
          "name": "stdout",
          "text": [
            "Digite um número para gerar a tabuada: 8\n",
            "Tabuada do 8:\n",
            "8 x 0 = 0\n",
            "8 x 1 = 8\n",
            "8 x 2 = 16\n",
            "8 x 3 = 24\n",
            "8 x 4 = 32\n",
            "8 x 5 = 40\n",
            "8 x 6 = 48\n",
            "8 x 7 = 56\n",
            "8 x 8 = 64\n",
            "8 x 9 = 72\n",
            "8 x 10 = 80\n"
          ]
        }
      ]
    },
    {
      "cell_type": "code",
      "source": [
        "#3. Múltiplos de 3\n",
        "\n",
        "def multiplos_de_3(lista):\n",
        "    return [x for x in lista if x % 3 == 0]\n",
        "\n",
        "# Lista fornecida\n",
        "lista = [97, 80, 94, 88, 80, 1, 16, 53, 62, 32, 24, 99]\n",
        "\n",
        "# Chamando a função e salvando o resultado em mult_3\n",
        "mult_3 = multiplos_de_3(lista)\n",
        "\n",
        "# Exibindo o resultado\n",
        "print(mult_3)\n"
      ],
      "metadata": {
        "colab": {
          "base_uri": "https://localhost:8080/"
        },
        "id": "Np5H3FyQJQgI",
        "outputId": "e4a1ca21-c2b6-4681-ef93-233bc4277880"
      },
      "execution_count": 16,
      "outputs": [
        {
          "output_type": "stream",
          "name": "stdout",
          "text": [
            "[24, 99]\n"
          ]
        }
      ]
    },
    {
      "cell_type": "code",
      "source": [
        "# 4. Quadrados dos números\n",
        "\n",
        "# Lista fornecida\n",
        "lista = [1, 2, 3, 4, 5, 6, 7, 8, 9, 10]\n",
        "\n",
        "# Usando map() e lambda para calcular os quadrados\n",
        "quadrados = list(map(lambda x: x ** 2, lista))\n",
        "\n",
        "# Exibindo o resultado\n",
        "print(quadrados)\n"
      ],
      "metadata": {
        "colab": {
          "base_uri": "https://localhost:8080/"
        },
        "id": "7I7695VdJTyY",
        "outputId": "8593e7de-85f1-495a-f032-c2fa4deb2686"
      },
      "execution_count": 18,
      "outputs": [
        {
          "output_type": "stream",
          "name": "stdout",
          "text": [
            "[1, 4, 9, 16, 25, 36, 49, 64, 81, 100]\n"
          ]
        }
      ]
    },
    {
      "cell_type": "code",
      "source": [
        "# 5. Pontuação dos skatistas\n",
        "\n",
        "def calcular_pontuacao():\n",
        "    notas = []\n",
        "    for i in range(5):\n",
        "        nota = float(input(f\"Digite a {i+1}ª nota: \"))\n",
        "        notas.append(nota)\n",
        "\n",
        "    # Eliminando a maior e a menor nota\n",
        "    notas.remove(max(notas))\n",
        "    notas.remove(min(notas))\n",
        "\n",
        "    # Calculando a média das 3 notas restantes\n",
        "    media = sum(notas) / len(notas)\n",
        "\n",
        "    # Exibindo a média\n",
        "    print(f\"Nota da manobra: {media:.2f}\")\n",
        "\n",
        "# Chamando a função\n",
        "calcular_pontuacao()\n"
      ],
      "metadata": {
        "colab": {
          "base_uri": "https://localhost:8080/"
        },
        "id": "lW38JwULJizu",
        "outputId": "707766e2-654a-432d-832e-ae58265a786a"
      },
      "execution_count": 19,
      "outputs": [
        {
          "output_type": "stream",
          "name": "stdout",
          "text": [
            "Digite a 1ª nota: 96\n",
            "Digite a 2ª nota: 84\n",
            "Digite a 3ª nota: 87\n",
            "Digite a 4ª nota: 90\n",
            "Digite a 5ª nota: 92\n",
            "Nota da manobra: 89.67\n"
          ]
        }
      ]
    },
    {
      "cell_type": "code",
      "source": [
        "# 6. Análise de desempenho de estudantes\n",
        "\n",
        "def analise_desempenho(notas):\n",
        "    maior = max(notas)\n",
        "    menor = min(notas)\n",
        "    media = sum(notas) / len(notas)\n",
        "    situacao = \"Aprovado(a)\" if media >= 6 else \"Reprovado(a)\"\n",
        "\n",
        "    # Exibindo o resultado\n",
        "    print(f\"O(a) estudante obteve uma média de {media:.2f}, com a sua maior nota de {maior} pontos e a menor nota de {menor} pontos e foi {situacao}\")\n",
        "\n",
        "# Exemplo de uso\n",
        "notas = [7.5, 8.0, 5.0, 6.5]\n",
        "analise_desempenho(notas)\n"
      ],
      "metadata": {
        "colab": {
          "base_uri": "https://localhost:8080/"
        },
        "id": "NtZ7mpclJvHk",
        "outputId": "304242fe-d203-48aa-b8b8-8bed1ae75be9"
      },
      "execution_count": 20,
      "outputs": [
        {
          "output_type": "stream",
          "name": "stdout",
          "text": [
            "O(a) estudante obteve uma média de 6.75, com a sua maior nota de 8.0 pontos e a menor nota de 5.0 pontos e foi Aprovado(a)\n"
          ]
        }
      ]
    },
    {
      "cell_type": "code",
      "source": [
        "# 7. Concatenando nomes e sobrenomes\n",
        "\n",
        "nomes = [\"joão\", \"MaRia\", \"JOSÉ\"]\n",
        "sobrenomes = [\"SILVA\", \"souza\", \"Tavares\"]\n",
        "\n",
        "# Usando map() e funções de string para concatenar e formatar os nomes\n",
        "nomes_completos = list(map(lambda n, s: n.capitalize() + \" \" + s.capitalize(), nomes, sobrenomes))\n",
        "\n",
        "# Exibindo o resultado\n",
        "for nome in nomes_completos:\n",
        "    print(f\"Nome completo: {nome}\")\n"
      ],
      "metadata": {
        "colab": {
          "base_uri": "https://localhost:8080/"
        },
        "id": "W400R5ZMJ2_X",
        "outputId": "c39a05dc-07b0-460d-b686-8dad579b6205"
      },
      "execution_count": 21,
      "outputs": [
        {
          "output_type": "stream",
          "name": "stdout",
          "text": [
            "Nome completo: João Silva\n",
            "Nome completo: Maria Souza\n",
            "Nome completo: José Tavares\n"
          ]
        }
      ]
    },
    {
      "cell_type": "code",
      "source": [
        "# 8. Calculando a pontuação do time\n",
        "\n",
        "def calcula_pontos(gols_marcados, gols_sofridos):\n",
        "    pontos = 0\n",
        "    total_jogos = len(gols_marcados)\n",
        "\n",
        "    for marcados, sofridos in zip(gols_marcados, gols_sofridos):\n",
        "        if marcados > sofridos:\n",
        "            pontos += 3  # Vitória\n",
        "        elif marcados == sofridos:\n",
        "            pontos += 1  # Empate\n",
        "\n",
        "    # Aproveitamento\n",
        "    pontuacao_maxima = total_jogos * 3\n",
        "    aproveitamento = (pontos / pontuacao_maxima) * 100\n",
        "\n",
        "    return pontos, round(aproveitamento, 2)\n",
        "\n",
        "# Exemplo de uso\n",
        "gols_marcados = [2, 1, 3, 1, 0]\n",
        "gols_sofridos = [1, 2, 2, 1, 3]\n",
        "pontos, aproveitamento = calcula_pontos(gols_marcados, gols_sofridos)\n",
        "\n",
        "print(f\"A pontuação do time foi de {pontos} e seu aproveitamento foi de {aproveitamento}%\")\n"
      ],
      "metadata": {
        "colab": {
          "base_uri": "https://localhost:8080/"
        },
        "id": "pDNu8v4GJ8x6",
        "outputId": "efa3a872-896a-4a0d-dcd2-23951dd08146"
      },
      "execution_count": 22,
      "outputs": [
        {
          "output_type": "stream",
          "name": "stdout",
          "text": [
            "A pontuação do time foi de 7 e seu aproveitamento foi de 46.67%\n"
          ]
        }
      ]
    },
    {
      "cell_type": "code",
      "source": [
        "# 9. Cálculo de gastos de viagem\n",
        "\n",
        "def gasto_hotel(dias):\n",
        "    return dias * 150\n",
        "\n",
        "def gasto_gasolina(distancia):\n",
        "    litros = distancia / 14  # Consumo de 14 km/l\n",
        "    return litros * 5  # Valor da gasolina\n",
        "\n",
        "def gasto_passeio(dias, cidade):\n",
        "    custos = {\"Salvador\": 200, \"Fortaleza\": 400, \"Natal\": 250, \"Aracaju\": 300}\n",
        "    return dias * custos[cidade]\n",
        "\n",
        "# Simulação de viagem\n",
        "dias = 3\n",
        "cidade = \"Salvador\"\n",
        "distancia = 850 * 2  # Ida e volta\n",
        "\n",
        "gasto_total = round(gasto_hotel(dias) + gasto_gasolina(distancia) + gasto_passeio(dias, cidade), 2)\n",
        "print(f\"Com base nos gastos definidos, uma viagem de {dias} dias para {cidade} saindo de Recife custaria R$ {gasto_total:.2f}\")\n",
        "\n"
      ],
      "metadata": {
        "colab": {
          "base_uri": "https://localhost:8080/"
        },
        "id": "4Nfu84_5KKs2",
        "outputId": "777a90ea-7ef1-4612-a6b7-ec5bd7fe1d10"
      },
      "execution_count": 26,
      "outputs": [
        {
          "output_type": "stream",
          "name": "stdout",
          "text": [
            "Com base nos gastos definidos, uma viagem de 3 dias para Salvador saindo de Recife custaria R$ 1657.14\n"
          ]
        }
      ]
    },
    {
      "cell_type": "code",
      "source": [
        "# 10. Filtrando palavras maiores ou iguais a 5 caracteres\n",
        "\n",
        "def filtrar_palavras(frase):\n",
        "    frase = frase.replace(',', '').replace('.', '').replace('!', '').replace('?', '')\n",
        "    palavras = frase.split()\n",
        "    return list(filter(lambda x: len(x) >= 5, palavras))\n",
        "\n",
        "# Exemplo de uso\n",
        "frase = \"Aprender Python aqui na Alura é muito bom\"\n",
        "palavras_filtradas = filtrar_palavras(frase)\n",
        "\n",
        "# Exibindo o resultado\n",
        "print(palavras_filtradas)\n"
      ],
      "metadata": {
        "colab": {
          "base_uri": "https://localhost:8080/"
        },
        "id": "dXMG4gxOKomE",
        "outputId": "c2390bf7-fed1-419d-f21c-04658ec93d23"
      },
      "execution_count": 27,
      "outputs": [
        {
          "output_type": "stream",
          "name": "stdout",
          "text": [
            "['Aprender', 'Python', 'Alura', 'muito']\n"
          ]
        }
      ]
    },
    {
      "cell_type": "markdown",
      "source": [
        "**Aula 03. Estrutura de Dados**"
      ],
      "metadata": {
        "id": "VKGoz_rYK-fj"
      }
    },
    {
      "cell_type": "code",
      "source": [
        "# Soma dos elementos de cada lista:\n",
        "\n",
        "lista_de_listas = [[4, 6, 5, 9], [1, 0, 7, 2], [3, 4, 1, 8]]\n",
        "soma_listas = [sum(lista) for lista in lista_de_listas]\n",
        "print(soma_listas)\n"
      ],
      "metadata": {
        "colab": {
          "base_uri": "https://localhost:8080/"
        },
        "id": "N7XGTMqELBhe",
        "outputId": "996c5064-cfab-4d2c-abd9-ff0b6d9f2e38"
      },
      "execution_count": 28,
      "outputs": [
        {
          "output_type": "stream",
          "name": "stdout",
          "text": [
            "[24, 10, 16]\n"
          ]
        }
      ]
    },
    {
      "cell_type": "code",
      "source": [
        "# Terceiro elemento de cada tupla:\n",
        "\n",
        "lista_de_tuplas = [('Pedro', 1.74, 81), ('Júlia', 1.65, 67), ('Otávio', 1.81, 83)]\n",
        "terceiro_elemento = [tupla[2] for tupla in lista_de_tuplas]\n",
        "print(terceiro_elemento)\n"
      ],
      "metadata": {
        "colab": {
          "base_uri": "https://localhost:8080/"
        },
        "id": "QBmmccd-LG40",
        "outputId": "b2c86ff5-52c3-4b84-cc10-1c2d6384fe87"
      },
      "execution_count": 29,
      "outputs": [
        {
          "output_type": "stream",
          "name": "stdout",
          "text": [
            "[81, 67, 83]\n"
          ]
        }
      ]
    },
    {
      "cell_type": "code",
      "source": [
        "# Lista de tuplas com a posição e o nome:\n",
        "\n",
        "lista = ['Pedro', 'Júlia', 'Otávio', 'Eduardo']\n",
        "lista_posicao_nome = [(index, nome) for index, nome in enumerate(lista)]\n",
        "print(lista_posicao_nome)\n"
      ],
      "metadata": {
        "colab": {
          "base_uri": "https://localhost:8080/"
        },
        "id": "4vHu7BnZLNtz",
        "outputId": "febb2eb2-eb58-4e70-f658-8ee271ffe061"
      },
      "execution_count": 30,
      "outputs": [
        {
          "output_type": "stream",
          "name": "stdout",
          "text": [
            "[(0, 'Pedro'), (1, 'Júlia'), (2, 'Otávio'), (3, 'Eduardo')]\n"
          ]
        }
      ]
    },
    {
      "cell_type": "code",
      "source": [
        "# List comprehension para valores de 'Apartamento':\n",
        "\n",
        "aluguel = [('Apartamento', 1700), ('Apartamento', 1400), ('Casa', 2150), ('Apartamento', 1900), ('Casa', 1100)]\n",
        "valores_apartamento = [valor for tipo, valor in aluguel if tipo == 'Apartamento']\n",
        "print(valores_apartamento)\n"
      ],
      "metadata": {
        "colab": {
          "base_uri": "https://localhost:8080/"
        },
        "id": "ouaRvYybLR1d",
        "outputId": "45c2f788-6e34-4410-a936-f10de358b47d"
      },
      "execution_count": 31,
      "outputs": [
        {
          "output_type": "stream",
          "name": "stdout",
          "text": [
            "[1700, 1400, 1900]\n"
          ]
        }
      ]
    },
    {
      "cell_type": "code",
      "source": [
        "# Dict comprehension para meses e despesas:\n",
        "\n",
        "meses = ['Jan', 'Fev', 'Mar', 'Abr', 'Mai', 'Jun', 'Jul', 'Ago', 'Set', 'Out', 'Nov', 'Dez']\n",
        "despesa = [860, 490, 1010, 780, 900, 630, 590, 770, 620, 560, 840, 360]\n",
        "despesas_mensais = {mes: valor for mes, valor in zip(meses, despesa)}\n",
        "print(despesas_mensais)\n"
      ],
      "metadata": {
        "colab": {
          "base_uri": "https://localhost:8080/"
        },
        "id": "JjGW8CCzLWXa",
        "outputId": "074f2978-d682-4757-f8a0-347c3f341c7f"
      },
      "execution_count": 35,
      "outputs": [
        {
          "output_type": "stream",
          "name": "stdout",
          "text": [
            "{'Jan': 860, 'Fev': 490, 'Mar': 1010, 'Abr': 780, 'Mai': 900, 'Jun': 630, 'Jul': 590, 'Ago': 770, 'Set': 620, 'Out': 560, 'Nov': 840, 'Dez': 360}\n"
          ]
        }
      ]
    },
    {
      "cell_type": "code",
      "source": [
        "# Filtragem de vendas de 2022:\n",
        "\n",
        "vendas = [('2023', 4093), ('2021', 4320), ('2021', 5959), ('2022', 8883), ('2023', 9859),\n",
        "          ('2022', 5141), ('2022', 7688), ('2022', 9544), ('2023', 4794), ('2021', 7178),\n",
        "          ('2022', 3030), ('2021', 7471), ('2022', 4226), ('2022', 8190), ('2021', 9680),\n",
        "          ('2022', 5616)]\n",
        "vendas_2022 = [valor for ano, valor in vendas if ano == '2022' and valor > 6000]\n",
        "print(vendas_2022)\n"
      ],
      "metadata": {
        "colab": {
          "base_uri": "https://localhost:8080/"
        },
        "id": "1BMAVRJBLuIb",
        "outputId": "3969b137-16e4-4eab-a299-708648432b31"
      },
      "execution_count": 33,
      "outputs": [
        {
          "output_type": "stream",
          "name": "stdout",
          "text": [
            "[8883, 7688, 9544, 8190]\n"
          ]
        }
      ]
    },
    {
      "cell_type": "code",
      "source": [
        "# Rotulagem de dados de glicemia:\n",
        "\n",
        "glicemia = [129, 82, 60, 97, 101, 65, 62, 167, 87, 53, 58, 92, 66, 120, 109, 62, 86, 96, 103, 88, 155, 52, 89, 73]\n",
        "rotulos_glicemia = [('Diabetes' if valor > 125 else 'Alterada' if valor > 99 else 'Normal' if valor >= 70 else 'Hipoglicemia', valor) for valor in glicemia]\n",
        "print(rotulos_glicemia)\n"
      ],
      "metadata": {
        "colab": {
          "base_uri": "https://localhost:8080/"
        },
        "id": "kd93KtVoLyE7",
        "outputId": "b768cb1f-4143-4895-f8c7-463ad371c35b"
      },
      "execution_count": 34,
      "outputs": [
        {
          "output_type": "stream",
          "name": "stdout",
          "text": [
            "[('Diabetes', 129), ('Normal', 82), ('Hipoglicemia', 60), ('Normal', 97), ('Alterada', 101), ('Hipoglicemia', 65), ('Hipoglicemia', 62), ('Diabetes', 167), ('Normal', 87), ('Hipoglicemia', 53), ('Hipoglicemia', 58), ('Normal', 92), ('Hipoglicemia', 66), ('Alterada', 120), ('Alterada', 109), ('Hipoglicemia', 62), ('Normal', 86), ('Normal', 96), ('Alterada', 103), ('Normal', 88), ('Diabetes', 155), ('Hipoglicemia', 52), ('Normal', 89), ('Normal', 73)]\n"
          ]
        }
      ]
    },
    {
      "cell_type": "code",
      "source": [
        "# Lista de tuplas com id, quantidade, preço e total:\n",
        "\n",
        "id = [0, 1, 2, 3, 4, 5, 6, 7, 8, 9]\n",
        "quantidade = [15, 12, 1, 15, 2, 11, 2, 12, 2, 4]\n",
        "preco = [93.0, 102.0, 18.0, 41.0, 122.0, 14.0, 71.0, 48.0, 14.0, 144.0]\n",
        "tabela_vendas = [('id', 'quantidade', 'preco', 'total')] + [(i, q, p, q * p) for i, q, p in zip(id, quantidade, preco)]\n",
        "print(tabela_vendas)\n"
      ],
      "metadata": {
        "colab": {
          "base_uri": "https://localhost:8080/"
        },
        "id": "MMoJpstvL-N5",
        "outputId": "b5bb8508-b5e2-494e-c61f-3bbd4ee2a3e3"
      },
      "execution_count": 36,
      "outputs": [
        {
          "output_type": "stream",
          "name": "stdout",
          "text": [
            "[('id', 'quantidade', 'preco', 'total'), (0, 15, 93.0, 1395.0), (1, 12, 102.0, 1224.0), (2, 1, 18.0, 18.0), (3, 15, 41.0, 615.0), (4, 2, 122.0, 244.0), (5, 11, 14.0, 154.0), (6, 2, 71.0, 142.0), (7, 12, 48.0, 576.0), (8, 2, 14.0, 28.0), (9, 4, 144.0, 576.0)]\n"
          ]
        }
      ]
    },
    {
      "cell_type": "code",
      "source": [
        "# Contagem de filiais por Estado:\n",
        "\n",
        "estados = ['SP', 'ES', 'MG', 'MG', 'SP', 'MG', 'ES', 'ES', 'ES', 'SP', 'SP', 'MG', 'ES', 'SP', 'RJ', 'MG', 'RJ', 'SP', 'MG', 'SP', 'ES', 'SP', 'MG']\n",
        "contagem_filiais = {estado: estados.count(estado) for estado in set(estados)}\n",
        "print(contagem_filiais)\n"
      ],
      "metadata": {
        "colab": {
          "base_uri": "https://localhost:8080/"
        },
        "id": "2djvQ_9HMK0Q",
        "outputId": "629b2849-9bf3-4b85-bb84-41ed05720801"
      },
      "execution_count": 37,
      "outputs": [
        {
          "output_type": "stream",
          "name": "stdout",
          "text": [
            "{'ES': 6, 'RJ': 2, 'MG': 7, 'SP': 8}\n"
          ]
        }
      ]
    },
    {
      "cell_type": "code",
      "source": [
        "# Dicionário de colaboradores por Estado:\n",
        "\n",
        "funcionarios = [('SP', 16), ('ES', 8), ('MG', 9), ('MG', 6), ('SP', 10), ('MG', 4), ('ES', 9), ('ES', 7), ('ES', 12), ('SP', 7), ('SP', 11), ('MG', 8), ('ES', 8), ('SP', 9), ('RJ', 13), ('MG', 5), ('RJ', 9), ('SP', 12), ('MG', 10), ('SP', 7), ('ES', 14), ('SP', 10), ('MG', 12)]\n",
        "\n",
        "colaboradores_por_estado = {estado: [qtd for e, qtd in funcionarios if e == estado] for estado in set(estados)}\n",
        "soma_colaboradores_por_estado = {estado: sum(qtds) for estado, qtds in colaboradores_por_estado.items()}\n",
        "\n",
        "print(colaboradores_por_estado)\n",
        "print(soma_colaboradores_por_estado)\n"
      ],
      "metadata": {
        "colab": {
          "base_uri": "https://localhost:8080/"
        },
        "id": "kx8aDHPFMO66",
        "outputId": "ea13ef03-b5c6-4b0a-9842-ae6038e661df"
      },
      "execution_count": 38,
      "outputs": [
        {
          "output_type": "stream",
          "name": "stdout",
          "text": [
            "{'ES': [8, 9, 7, 12, 8, 14], 'RJ': [13, 9], 'MG': [9, 6, 4, 8, 5, 10, 12], 'SP': [16, 10, 7, 11, 9, 12, 7, 10]}\n",
            "{'ES': 58, 'RJ': 22, 'MG': 54, 'SP': 82}\n"
          ]
        }
      ]
    },
    {
      "cell_type": "markdown",
      "source": [
        "**Aula 04. Lidando com Exeções**"
      ],
      "metadata": {
        "id": "Eid6NarOMdLm"
      }
    },
    {
      "cell_type": "code",
      "source": [
        "# 1. Divisão de dois números float com tratamento de exceções\n",
        "\n",
        "def dividir_numeros():\n",
        "    try:\n",
        "        num1 = float(input(\"Digite o primeiro número: \"))\n",
        "        num2 = float(input(\"Digite o segundo número: \"))\n",
        "        resultado = num1 / num2\n",
        "        print(f\"O resultado da divisão é: {resultado:.2f}\")\n",
        "    except ZeroDivisionError as e:\n",
        "        print(f\"Erro: {e}. Não é possível dividir por zero.\")\n",
        "    except ValueError as e:\n",
        "        print(f\"Erro: {e}. Por favor, insira valores numéricos válidos.\")\n",
        "\n",
        "# Testando a função\n",
        "dividir_numeros()\n",
        "\n"
      ],
      "metadata": {
        "colab": {
          "base_uri": "https://localhost:8080/"
        },
        "id": "g6H1LqwgMgKZ",
        "outputId": "de6a306c-b077-4807-f653-67e68173fdab"
      },
      "execution_count": 41,
      "outputs": [
        {
          "output_type": "stream",
          "name": "stdout",
          "text": [
            "Digite o primeiro número: 18\n",
            "Digite o segundo número: 8\n",
            "O resultado da divisão é: 2.25\n"
          ]
        }
      ]
    },
    {
      "cell_type": "code",
      "source": [
        "# 2. Pesquisa em dicionário com tratamento de exceções\n",
        "\n",
        "def pesquisar_nome():\n",
        "    idades = {'Júlia': 16, 'Carol': 23, 'Alberto': 19, 'Roberta': 17}\n",
        "    nome = input(\"Digite o nome a ser pesquisado: \")\n",
        "    try:\n",
        "        idade = idades[nome]\n",
        "        print(f\"A idade de {nome} é {idade}.\")\n",
        "    except KeyError:\n",
        "        print(\"Nome não encontrado.\")\n",
        "\n",
        "# Testando a função\n",
        "pesquisar_nome()\n"
      ],
      "metadata": {
        "colab": {
          "base_uri": "https://localhost:8080/"
        },
        "id": "G2B6mWjAM0W1",
        "outputId": "ff93ce88-4da2-4fdd-9c7b-868d0bf30288"
      },
      "execution_count": 43,
      "outputs": [
        {
          "output_type": "stream",
          "name": "stdout",
          "text": [
            "Digite o nome a ser pesquisado: Micheli\n",
            "Nome não encontrado.\n"
          ]
        }
      ]
    },
    {
      "cell_type": "code",
      "source": [
        "# 3. Conversão de valores da lista para float com tratamento de exceções\n",
        "\n",
        "def converter_para_float(lista):\n",
        "    try:\n",
        "        lista_float = [float(item) for item in lista]\n",
        "        return lista_float\n",
        "    except ValueError as e:\n",
        "        print(f\"Erro: {e}. Certifique-se de que todos os itens são numéricos.\")\n",
        "    finally:\n",
        "        print(\"Fim da execução da função.\")\n",
        "\n",
        "# Testando a função\n",
        "lista_teste = [1.5, 2.0, \"w\"]\n",
        "print(converter_para_float(lista_teste))\n"
      ],
      "metadata": {
        "colab": {
          "base_uri": "https://localhost:8080/"
        },
        "id": "kMjJhzuNM7OV",
        "outputId": "480d603a-eb91-465a-e7d4-28947d506ebd"
      },
      "execution_count": 46,
      "outputs": [
        {
          "output_type": "stream",
          "name": "stdout",
          "text": [
            "Erro: could not convert string to float: 'w'. Certifique-se de que todos os itens são numéricos.\n",
            "Fim da execução da função.\n",
            "None\n"
          ]
        }
      ]
    },
    {
      "cell_type": "code",
      "source": [
        "# 4. Agrupamento de listas em tuplas com tratamento de exceções\n",
        "\n",
        "def agrupar_listas(lista1, lista2):\n",
        "    try:\n",
        "        if len(lista1) != len(lista2):\n",
        "            raise IndexError(\"A quantidade de elementos em cada lista é diferente.\")\n",
        "        lista_tuplas = [(x, y, x + y) for x, y in zip(lista1, lista2)]\n",
        "        return lista_tuplas\n",
        "    except IndexError as e:\n",
        "        print(f\"Erro: {e}.\")\n",
        "    except TypeError as e:\n",
        "        print(f\"Erro: {e}. Certifique-se de que todos os itens são numéricos.\")\n",
        "\n",
        "# Testando a função\n",
        "lista1 = [4, 6, 7, 9, 10]\n",
        "lista2 = [-4, 6, 8, 7, 9]\n",
        "print(agrupar_listas(lista1, lista2))\n",
        "\n",
        "lista1 = [4, 6, 7, 9, 10, 4]\n",
        "lista2 = [-4, 6, 8, 7, 9]\n",
        "print(agrupar_listas(lista1, lista2))\n",
        "\n",
        "lista1 = [4, 6, 7, 9, 'A']\n",
        "lista2 = [-4, 'E', 8, 7, 9]\n",
        "print(agrupar_listas(lista1, lista2))\n"
      ],
      "metadata": {
        "colab": {
          "base_uri": "https://localhost:8080/"
        },
        "id": "G2g62_n_NM_v",
        "outputId": "67166b9a-1d7b-48ca-9c42-7780252a9f3c"
      },
      "execution_count": 47,
      "outputs": [
        {
          "output_type": "stream",
          "name": "stdout",
          "text": [
            "[(4, -4, 0), (6, 6, 12), (7, 8, 15), (9, 7, 16), (10, 9, 19)]\n",
            "Erro: A quantidade de elementos em cada lista é diferente..\n",
            "None\n",
            "Erro: unsupported operand type(s) for +: 'int' and 'str'. Certifique-se de que todos os itens são numéricos.\n",
            "None\n"
          ]
        }
      ]
    },
    {
      "cell_type": "code",
      "source": [
        "# 5. Contabilização de pontuações de estudantes com tratamento de exceções\n",
        "\n",
        "def calcular_notas(gabarito, testes):\n",
        "    try:\n",
        "        notas = []\n",
        "        for teste in testes:\n",
        "            if any(resposta not in ['A', 'B', 'C', 'D'] for resposta in teste):\n",
        "                raise ValueError(f\"A alternativa {teste} não é uma opção de alternativa válida.\")\n",
        "            nota = sum(1 for g, t in zip(gabarito, teste) if g == t)\n",
        "            notas.append(nota)\n",
        "        return notas\n",
        "    except ValueError as e:\n",
        "        print(f\"Erro: {e}\")\n",
        "\n",
        "# Testando a função\n",
        "gabarito = ['D', 'A', 'B', 'C', 'A']\n",
        "testes_sem_ex = [['D', 'A', 'B', 'C', 'A'], ['C', 'A', 'A', 'C', 'A'], ['D', 'B', 'A', 'C', 'A']]\n",
        "testes_com_ex = [['D', 'A', 'B', 'C', 'A'], ['C', 'A', 'A', 'E', 'A'], ['D', 'B', 'A', 'C', 'A']]\n",
        "\n",
        "print(calcular_notas(gabarito, testes_sem_ex))\n",
        "print(calcular_notas(gabarito, testes_com_ex))\n"
      ],
      "metadata": {
        "colab": {
          "base_uri": "https://localhost:8080/"
        },
        "id": "sOHNcg8ENTmE",
        "outputId": "dfe357d7-6db5-403f-ab65-34fc48e63ffc"
      },
      "execution_count": 48,
      "outputs": [
        {
          "output_type": "stream",
          "name": "stdout",
          "text": [
            "[5, 3, 3]\n",
            "Erro: A alternativa ['C', 'A', 'A', 'E', 'A'] não é uma opção de alternativa válida.\n",
            "None\n"
          ]
        }
      ]
    },
    {
      "cell_type": "code",
      "source": [
        "# 6. Verificação de pontuação em palavras com tratamento de exceções\n",
        "\n",
        "def verificar_pontuacao(lista_palavras):\n",
        "    try:\n",
        "        for palavra in lista_palavras:\n",
        "            if any(p in palavra for p in [',', '.', '!', '?']):\n",
        "                raise ValueError(f\"O texto apresenta pontuações na palavra '{palavra}'.\")\n",
        "        print(\"Nenhuma pontuação encontrada nas palavras.\")\n",
        "    except ValueError as e:\n",
        "        print(f\"Erro: {e}\")\n",
        "\n",
        "# Testando a função\n",
        "lista_tratada = ['Python', 'é', 'uma', 'linguagem', 'de', 'programação', 'poderosa', 'versátil',\n",
        "                 'e', 'fácil', 'de', 'aprender', 'utilizada', 'em', 'diversos', 'campos', 'desde',\n",
        "                 'análise', 'de', 'dados', 'até', 'inteligência', 'artificial']\n",
        "\n",
        "lista_nao_tratada = ['Python', 'é', 'uma', 'linguagem', 'de', 'programação', 'poderosa,', 'versátil',\n",
        "                     'e', 'fácil,', 'de', 'aprender', 'utilizada', 'em', 'diversos', 'campos,', 'desde',\n",
        "                     'análise', 'de', 'dados', 'até', 'inteligência', 'artificial!']\n",
        "\n",
        "verificar_pontuacao(lista_tratada)\n",
        "verificar_pontuacao(lista_nao_tratada)\n"
      ],
      "metadata": {
        "colab": {
          "base_uri": "https://localhost:8080/"
        },
        "id": "SZPIsuoHNm0u",
        "outputId": "3a1daaaa-dde9-402a-f333-ec461c599afa"
      },
      "execution_count": 49,
      "outputs": [
        {
          "output_type": "stream",
          "name": "stdout",
          "text": [
            "Nenhuma pontuação encontrada nas palavras.\n",
            "Erro: O texto apresenta pontuações na palavra 'poderosa,'.\n"
          ]
        }
      ]
    },
    {
      "cell_type": "code",
      "source": [
        "# 7. Divisão de colunas com tratamento de exceções\n",
        "\n",
        "def divide_colunas(pressoes, temperaturas):\n",
        "    try:\n",
        "        if len(pressoes) != len(temperaturas):\n",
        "            raise ValueError(\"As listas de pressões e temperaturas devem ter o mesmo tamanho.\")\n",
        "\n",
        "        resultado = [round(p / t, 2) for p, t in zip(pressoes, temperaturas)]\n",
        "        return resultado\n",
        "    except ZeroDivisionError:\n",
        "        print(\"Erro: Divisão por zero detectada.\")\n",
        "    except ValueError as e:\n",
        "        print(f\"Erro: {e}\")\n",
        "\n",
        "# Testando a função\n",
        "pressoes = [100, 120, 140, 160, 180]\n",
        "temperaturas = [20, 25, 30, 35, 40]\n",
        "print(divide_colunas(pressoes, temperaturas))\n",
        "\n",
        "pressoes = [60, 120, 140, 160, 180]\n",
        "temperaturas = [0, 25, 30, 35, 40]\n",
        "print(divide_colunas(pressoes, temperaturas))\n",
        "\n",
        "pressoes = [100, 120, 140, 160]\n",
        "temperaturas = [20, 25, 30, 35, 40]\n",
        "print(divide_colunas(pressoes, temperaturas))"
      ],
      "metadata": {
        "colab": {
          "base_uri": "https://localhost:8080/"
        },
        "id": "ITr856KeNw1k",
        "outputId": "e854639f-87db-452c-ef72-01b425625853"
      },
      "execution_count": 52,
      "outputs": [
        {
          "output_type": "stream",
          "name": "stdout",
          "text": [
            "[5.0, 4.8, 4.67, 4.57, 4.5]\n",
            "Erro: Divisão por zero detectada.\n",
            "None\n",
            "Erro: As listas de pressões e temperaturas devem ter o mesmo tamanho.\n",
            "None\n"
          ]
        }
      ]
    }
  ]
}